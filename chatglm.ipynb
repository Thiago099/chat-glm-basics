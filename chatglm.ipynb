{
 "cells": [
  {
   "cell_type": "code",
   "execution_count": 1,
   "metadata": {},
   "outputs": [
    {
     "name": "stderr",
     "output_type": "stream",
     "text": [
      "C:\\Users\\Thiago\\AppData\\Local\\Packages\\PythonSoftwareFoundation.Python.3.10_qbz5n2kfra8p0\\LocalCache\\local-packages\\Python310\\site-packages\\tqdm\\auto.py:22: TqdmWarning: IProgress not found. Please update jupyter and ipywidgets. See https://ipywidgets.readthedocs.io/en/stable/user_install.html\n",
      "  from .autonotebook import tqdm as notebook_tqdm\n",
      "Explicitly passing a `revision` is encouraged when loading a model with custom code to ensure no malicious code has been contributed in a newer revision.\n",
      "Explicitly passing a `revision` is encouraged when loading a configuration with custom code to ensure no malicious code has been contributed in a newer revision.\n",
      "Explicitly passing a `revision` is encouraged when loading a model with custom code to ensure no malicious code has been contributed in a newer revision.\n"
     ]
    },
    {
     "name": "stdout",
     "output_type": "stream",
     "text": [
      "No compiled kernel found.\n",
      "Compiling kernels : C:\\Users\\Thiago\\.cache\\huggingface\\modules\\transformers_modules\\THUDM\\chatglm-6b-int4\\e02ba894cf18f3fd9b2526c795f983683c4ec732\\quantization_kernels_parallel.c\n",
      "Compiling gcc -O3 -fPIC -pthread -fopenmp -std=c99 C:\\Users\\Thiago\\.cache\\huggingface\\modules\\transformers_modules\\THUDM\\chatglm-6b-int4\\e02ba894cf18f3fd9b2526c795f983683c4ec732\\quantization_kernels_parallel.c -shared -o C:\\Users\\Thiago\\.cache\\huggingface\\modules\\transformers_modules\\THUDM\\chatglm-6b-int4\\e02ba894cf18f3fd9b2526c795f983683c4ec732\\quantization_kernels_parallel.so\n",
      "Compile default cpu kernel failed, using default cpu kernel code.\n",
      "Compiling gcc -O3 -fPIC -std=c99 C:\\Users\\Thiago\\.cache\\huggingface\\modules\\transformers_modules\\THUDM\\chatglm-6b-int4\\e02ba894cf18f3fd9b2526c795f983683c4ec732\\quantization_kernels.c -shared -o C:\\Users\\Thiago\\.cache\\huggingface\\modules\\transformers_modules\\THUDM\\chatglm-6b-int4\\e02ba894cf18f3fd9b2526c795f983683c4ec732\\quantization_kernels.so\n",
      "Compile default cpu kernel failed.\n",
      "Failed to load kernel.\n",
      "Cannot load cpu kernel, don't use quantized model on cpu.\n",
      "Using quantization cache\n",
      "Applying quantization to glm layers\n"
     ]
    }
   ],
   "source": [
    "from transformers import AutoTokenizer, AutoModel\n",
    "tokenizer = AutoTokenizer.from_pretrained(\"THUDM/chatglm-6b-int4\", trust_remote_code=True, cache_dir=\"./data\")\n",
    "model = AutoModel.from_pretrained(\"THUDM/chatglm-6b-int4\", trust_remote_code=True, cache_dir=\"./data\").half().cuda()\n",
    "model = model.eval()\n",
    "\n"
   ]
  },
  {
   "cell_type": "code",
   "execution_count": 265,
   "metadata": {},
   "outputs": [
    {
     "name": "stdout",
     "output_type": "stream",
     "text": [
      "Paris\n"
     ]
    }
   ],
   "source": [
    "\n",
    "class question:\n",
    "    def __init__(self, question):\n",
    "        self.modifiers = \"\"\n",
    "        self.question = question\n",
    "\n",
    "    def ask(self):\n",
    "       return model.chat(tokenizer, self.modifiers + self.question, history=[])[0].strip(\".\")\n",
    "    \n",
    "    def short(self):\n",
    "        self.modifiers += \"give me the shortest answer possible.\"\n",
    "        return self\n",
    "    \n",
    "    \n",
    "\n",
    "q = '''\n",
    "What is the capital of France?\n",
    "'''\n",
    "\n",
    "print(question(q).short().ask())\n",
    "    \n"
   ]
  }
 ],
 "metadata": {
  "kernelspec": {
   "display_name": "Python 3",
   "language": "python",
   "name": "python3"
  },
  "language_info": {
   "codemirror_mode": {
    "name": "ipython",
    "version": 3
   },
   "file_extension": ".py",
   "mimetype": "text/x-python",
   "name": "python",
   "nbconvert_exporter": "python",
   "pygments_lexer": "ipython3",
   "version": "3.10.11"
  },
  "orig_nbformat": 4
 },
 "nbformat": 4,
 "nbformat_minor": 2
}
