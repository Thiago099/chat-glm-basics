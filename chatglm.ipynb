{
 "cells": [
  {
   "cell_type": "code",
   "execution_count": 3,
   "metadata": {},
   "outputs": [
    {
     "name": "stderr",
     "output_type": "stream",
     "text": [
      "Explicitly passing a `revision` is encouraged when loading a model with custom code to ensure no malicious code has been contributed in a newer revision.\n",
      "Explicitly passing a `revision` is encouraged when loading a configuration with custom code to ensure no malicious code has been contributed in a newer revision.\n",
      "Explicitly passing a `revision` is encouraged when loading a model with custom code to ensure no malicious code has been contributed in a newer revision.\n"
     ]
    },
    {
     "name": "stdout",
     "output_type": "stream",
     "text": [
      "No compiled kernel found.\n",
      "Compiling kernels : C:\\Users\\Thiago\\.cache\\huggingface\\modules\\transformers_modules\\THUDM\\chatglm-6b-int4\\6498797e7951d5b8fe55f34e35172b178533656a\\quantization_kernels_parallel.c\n",
      "Compiling gcc -O3 -fPIC -pthread -fopenmp -std=c99 C:\\Users\\Thiago\\.cache\\huggingface\\modules\\transformers_modules\\THUDM\\chatglm-6b-int4\\6498797e7951d5b8fe55f34e35172b178533656a\\quantization_kernels_parallel.c -shared -o C:\\Users\\Thiago\\.cache\\huggingface\\modules\\transformers_modules\\THUDM\\chatglm-6b-int4\\6498797e7951d5b8fe55f34e35172b178533656a\\quantization_kernels_parallel.so\n",
      "Compile default cpu kernel failed, using default cpu kernel code.\n",
      "Compiling gcc -O3 -fPIC -std=c99 C:\\Users\\Thiago\\.cache\\huggingface\\modules\\transformers_modules\\THUDM\\chatglm-6b-int4\\6498797e7951d5b8fe55f34e35172b178533656a\\quantization_kernels.c -shared -o C:\\Users\\Thiago\\.cache\\huggingface\\modules\\transformers_modules\\THUDM\\chatglm-6b-int4\\6498797e7951d5b8fe55f34e35172b178533656a\\quantization_kernels.so\n",
      "Compile default cpu kernel failed.\n",
      "Failed to load kernel.\n",
      "Cannot load cpu kernel, don't use quantized model on cpu.\n",
      "Using quantization cache\n",
      "Applying quantization to glm layers\n"
     ]
    }
   ],
   "source": [
    "from transformers import AutoTokenizer, AutoModel\n",
    "tokenizer = AutoTokenizer.from_pretrained(\"THUDM/chatglm-6b-int4\", trust_remote_code=True)\n",
    "model = AutoModel.from_pretrained(\"THUDM/chatglm-6b-int4\", trust_remote_code=True).half().cuda()\n",
    "model = model.eval()\n",
    "\n"
   ]
  },
  {
   "cell_type": "code",
   "execution_count": 5,
   "metadata": {},
   "outputs": [
    {
     "name": "stdout",
     "output_type": "stream",
     "text": [
      "Hello! How can I assist you today?\n",
      "I'm a language model trained on a large corpus of text. As a language model, I don't have personal identity or consciousness, but I can assist you with language translation, question-answering, or other language-related tasks.\n"
     ]
    }
   ],
   "source": [
    "response, history = model.chat(tokenizer, \"hello\", history=[])\n",
    "print(response)\n",
    "response, history = model.chat(tokenizer, \"who are you\", history=history)\n",
    "print(response)\n"
   ]
  }
 ],
 "metadata": {
  "kernelspec": {
   "display_name": "Python 3",
   "language": "python",
   "name": "python3"
  },
  "language_info": {
   "codemirror_mode": {
    "name": "ipython",
    "version": 3
   },
   "file_extension": ".py",
   "mimetype": "text/x-python",
   "name": "python",
   "nbconvert_exporter": "python",
   "pygments_lexer": "ipython3",
   "version": "3.10.11"
  },
  "orig_nbformat": 4
 },
 "nbformat": 4,
 "nbformat_minor": 2
}
