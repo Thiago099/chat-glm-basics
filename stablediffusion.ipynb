{
 "cells": [
  {
   "cell_type": "code",
   "execution_count": null,
   "metadata": {},
   "outputs": [],
   "source": [
    "from diffusers import StableDiffusionPipeline, DPMSolverMultistepScheduler\n",
    "from torch import float16\n",
    "model_id = \"stabilityai/stable-diffusion-2-1\"\n",
    "pipe = StableDiffusionPipeline.from_pretrained(model_id, torch_dtype=float16, cache_dir=\"./data2\")\n",
    "pipe.scheduler = DPMSolverMultistepScheduler.from_config(pipe.scheduler.config, cache_dir=\"./data2\")\n",
    "pipe = pipe.to(\"cuda\")\n",
    "\n"
   ]
  },
  {
   "cell_type": "code",
   "execution_count": 55,
   "metadata": {},
   "outputs": [],
   "source": [
    "import os\n",
    "import re\n",
    "def batch(prompt,times):\n",
    "    #replace not text or space\n",
    "    path = re.sub(r'[^a-zA-Z\\s]', '', prompt)[:100]\n",
    "    os.makedirs(\"images/\"+path, exist_ok=True)\n",
    "    def find_biggest_number(folder):\n",
    "        # Create a dictionary to store the number and its file name\n",
    "        biggest_number = 0\n",
    "        for file in os.listdir(folder):\n",
    "            number = int(file.split(\".\")[0])\n",
    "            if number > biggest_number:\n",
    "                biggest_number = number\n",
    "        return biggest_number\n",
    "\n",
    "    biggest_number = find_biggest_number(\"images/\"+path)+1\n",
    "\n",
    "    for i in range(times):\n",
    "        image = pipe(prompt).images[0]\n",
    "        image.save(f\"images/{path}/{i+biggest_number}.png\")"
   ]
  },
  {
   "cell_type": "code",
   "execution_count": 58,
   "metadata": {},
   "outputs": [
    {
     "name": "stderr",
     "output_type": "stream",
     "text": [
      "100%|██████████| 50/50 [00:06<00:00,  7.28it/s]\n",
      "100%|██████████| 50/50 [00:06<00:00,  8.04it/s]\n",
      " 14%|█▍        | 7/50 [00:01<00:06,  6.54it/s]\n"
     ]
    },
    {
     "ename": "KeyboardInterrupt",
     "evalue": "",
     "output_type": "error",
     "traceback": [
      "\u001b[1;31m---------------------------------------------------------------------------\u001b[0m",
      "\u001b[1;31mKeyboardInterrupt\u001b[0m                         Traceback (most recent call last)",
      "Cell \u001b[1;32mIn[58], line 3\u001b[0m\n\u001b[0;32m      1\u001b[0m prompt \u001b[39m=\u001b[39m \u001b[39m\"\u001b[39m\u001b[39mnude woman nipples\u001b[39m\u001b[39m\"\u001b[39m\n\u001b[1;32m----> 3\u001b[0m batch(prompt,\u001b[39m20\u001b[39;49m)\n",
      "Cell \u001b[1;32mIn[55], line 19\u001b[0m, in \u001b[0;36mbatch\u001b[1;34m(prompt, times)\u001b[0m\n\u001b[0;32m     16\u001b[0m biggest_number \u001b[39m=\u001b[39m find_biggest_number(\u001b[39m\"\u001b[39m\u001b[39mimages/\u001b[39m\u001b[39m\"\u001b[39m\u001b[39m+\u001b[39mpath)\u001b[39m+\u001b[39m\u001b[39m1\u001b[39m\n\u001b[0;32m     18\u001b[0m \u001b[39mfor\u001b[39;00m i \u001b[39min\u001b[39;00m \u001b[39mrange\u001b[39m(times):\n\u001b[1;32m---> 19\u001b[0m     image \u001b[39m=\u001b[39m pipe(prompt)\u001b[39m.\u001b[39mimages[\u001b[39m0\u001b[39m]\n\u001b[0;32m     20\u001b[0m     image\u001b[39m.\u001b[39msave(\u001b[39mf\u001b[39m\u001b[39m\"\u001b[39m\u001b[39mimages/\u001b[39m\u001b[39m{\u001b[39;00mpath\u001b[39m}\u001b[39;00m\u001b[39m/\u001b[39m\u001b[39m{\u001b[39;00mi\u001b[39m+\u001b[39mbiggest_number\u001b[39m}\u001b[39;00m\u001b[39m.png\u001b[39m\u001b[39m\"\u001b[39m)\n",
      "File \u001b[1;32m~\\AppData\\Local\\Packages\\PythonSoftwareFoundation.Python.3.10_qbz5n2kfra8p0\\LocalCache\\local-packages\\Python310\\site-packages\\torch\\utils\\_contextlib.py:115\u001b[0m, in \u001b[0;36mcontext_decorator.<locals>.decorate_context\u001b[1;34m(*args, **kwargs)\u001b[0m\n\u001b[0;32m    112\u001b[0m \u001b[39m@functools\u001b[39m\u001b[39m.\u001b[39mwraps(func)\n\u001b[0;32m    113\u001b[0m \u001b[39mdef\u001b[39;00m \u001b[39mdecorate_context\u001b[39m(\u001b[39m*\u001b[39margs, \u001b[39m*\u001b[39m\u001b[39m*\u001b[39mkwargs):\n\u001b[0;32m    114\u001b[0m     \u001b[39mwith\u001b[39;00m ctx_factory():\n\u001b[1;32m--> 115\u001b[0m         \u001b[39mreturn\u001b[39;00m func(\u001b[39m*\u001b[39margs, \u001b[39m*\u001b[39m\u001b[39m*\u001b[39mkwargs)\n",
      "File \u001b[1;32m~\\AppData\\Local\\Packages\\PythonSoftwareFoundation.Python.3.10_qbz5n2kfra8p0\\LocalCache\\local-packages\\Python310\\site-packages\\diffusers\\pipelines\\stable_diffusion\\pipeline_stable_diffusion.py:689\u001b[0m, in \u001b[0;36mStableDiffusionPipeline.__call__\u001b[1;34m(self, prompt, height, width, num_inference_steps, guidance_scale, negative_prompt, num_images_per_prompt, eta, generator, latents, prompt_embeds, negative_prompt_embeds, output_type, return_dict, callback, callback_steps, cross_attention_kwargs)\u001b[0m\n\u001b[0;32m    686\u001b[0m     noise_pred \u001b[39m=\u001b[39m noise_pred_uncond \u001b[39m+\u001b[39m guidance_scale \u001b[39m*\u001b[39m (noise_pred_text \u001b[39m-\u001b[39m noise_pred_uncond)\n\u001b[0;32m    688\u001b[0m \u001b[39m# compute the previous noisy sample x_t -> x_t-1\u001b[39;00m\n\u001b[1;32m--> 689\u001b[0m latents \u001b[39m=\u001b[39m \u001b[39mself\u001b[39m\u001b[39m.\u001b[39mscheduler\u001b[39m.\u001b[39mstep(noise_pred, t, latents, \u001b[39m*\u001b[39m\u001b[39m*\u001b[39mextra_step_kwargs)\u001b[39m.\u001b[39mprev_sample\n\u001b[0;32m    691\u001b[0m \u001b[39m# call the callback, if provided\u001b[39;00m\n\u001b[0;32m    692\u001b[0m \u001b[39mif\u001b[39;00m i \u001b[39m==\u001b[39m \u001b[39mlen\u001b[39m(timesteps) \u001b[39m-\u001b[39m \u001b[39m1\u001b[39m \u001b[39mor\u001b[39;00m ((i \u001b[39m+\u001b[39m \u001b[39m1\u001b[39m) \u001b[39m>\u001b[39m num_warmup_steps \u001b[39mand\u001b[39;00m (i \u001b[39m+\u001b[39m \u001b[39m1\u001b[39m) \u001b[39m%\u001b[39m \u001b[39mself\u001b[39m\u001b[39m.\u001b[39mscheduler\u001b[39m.\u001b[39morder \u001b[39m==\u001b[39m \u001b[39m0\u001b[39m):\n",
      "File \u001b[1;32m~\\AppData\\Local\\Packages\\PythonSoftwareFoundation.Python.3.10_qbz5n2kfra8p0\\LocalCache\\local-packages\\Python310\\site-packages\\diffusers\\schedulers\\scheduling_dpmsolver_multistep.py:536\u001b[0m, in \u001b[0;36mDPMSolverMultistepScheduler.step\u001b[1;34m(self, model_output, timestep, sample, return_dict)\u001b[0m\n\u001b[0;32m    534\u001b[0m \u001b[39mif\u001b[39;00m \u001b[39misinstance\u001b[39m(timestep, torch\u001b[39m.\u001b[39mTensor):\n\u001b[0;32m    535\u001b[0m     timestep \u001b[39m=\u001b[39m timestep\u001b[39m.\u001b[39mto(\u001b[39mself\u001b[39m\u001b[39m.\u001b[39mtimesteps\u001b[39m.\u001b[39mdevice)\n\u001b[1;32m--> 536\u001b[0m step_index \u001b[39m=\u001b[39m (\u001b[39mself\u001b[39;49m\u001b[39m.\u001b[39;49mtimesteps \u001b[39m==\u001b[39;49m timestep)\u001b[39m.\u001b[39;49mnonzero()\n\u001b[0;32m    537\u001b[0m \u001b[39mif\u001b[39;00m \u001b[39mlen\u001b[39m(step_index) \u001b[39m==\u001b[39m \u001b[39m0\u001b[39m:\n\u001b[0;32m    538\u001b[0m     step_index \u001b[39m=\u001b[39m \u001b[39mlen\u001b[39m(\u001b[39mself\u001b[39m\u001b[39m.\u001b[39mtimesteps) \u001b[39m-\u001b[39m \u001b[39m1\u001b[39m\n",
      "\u001b[1;31mKeyboardInterrupt\u001b[0m: "
     ]
    }
   ],
   "source": [
    "prompt = \"nude woman nipples\"\n",
    "\n",
    "batch(prompt,20)\n"
   ]
  }
 ],
 "metadata": {
  "kernelspec": {
   "display_name": "Python 3",
   "language": "python",
   "name": "python3"
  },
  "language_info": {
   "codemirror_mode": {
    "name": "ipython",
    "version": 3
   },
   "file_extension": ".py",
   "mimetype": "text/x-python",
   "name": "python",
   "nbconvert_exporter": "python",
   "pygments_lexer": "ipython3",
   "version": "3.10.11"
  },
  "orig_nbformat": 4
 },
 "nbformat": 4,
 "nbformat_minor": 2
}
