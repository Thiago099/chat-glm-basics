{
 "cells": [
  {
   "cell_type": "code",
   "execution_count": 5,
   "metadata": {},
   "outputs": [
    {
     "name": "stderr",
     "output_type": "stream",
     "text": [
      "Cannot initialize model with low cpu memory usage because `accelerate` was not found in the environment. Defaulting to `low_cpu_mem_usage=False`. It is strongly recommended to install `accelerate` for faster and less memory-intense model loading. You can do so with: \n",
      "```\n",
      "pip install accelerate\n",
      "```\n",
      ".\n"
     ]
    }
   ],
   "source": [
    "from diffusers import StableDiffusionPipeline, DPMSolverMultistepScheduler\n",
    "from torch import float16\n",
    "model_id = \"stabilityai/stable-diffusion-2-1\"\n",
    "pipe = StableDiffusionPipeline.from_pretrained(model_id, torch_dtype=float16, cache_dir=\"./data2\")\n",
    "pipe.scheduler = DPMSolverMultistepScheduler.from_config(pipe.scheduler.config, cache_dir=\"./data2\")\n",
    "pipe = pipe.to(\"cuda\")\n",
    "\n"
   ]
  },
  {
   "cell_type": "code",
   "execution_count": 34,
   "metadata": {},
   "outputs": [],
   "source": [
    "import os\n",
    "\n",
    "def batch(prompt,times):\n",
    "    os.makedirs(\"images/\"+prompt, exist_ok=True)\n",
    "    def find_biggest_number(folder):\n",
    "        # Create a dictionary to store the number and its file name\n",
    "        biggest_number = 0\n",
    "        for file in os.listdir(folder):\n",
    "            number = int(file.split(\".\")[0])\n",
    "            if number > biggest_number:\n",
    "                biggest_number = number\n",
    "        return biggest_number\n",
    "\n",
    "    biggest_number = find_biggest_number(\"images/\"+prompt)+1\n",
    "\n",
    "    for i in range(times):\n",
    "        image = pipe(prompt).images[0]\n",
    "        image.save(f\"images/{prompt}/{i+biggest_number}.png\")"
   ]
  },
  {
   "cell_type": "code",
   "execution_count": 36,
   "metadata": {},
   "outputs": [
    {
     "name": "stderr",
     "output_type": "stream",
     "text": [
      " 90%|█████████ | 45/50 [00:07<00:00,  8.02it/s]"
     ]
    }
   ],
   "source": [
    "prompt = \"photograph of a cat made out of gold on the beach\"\n",
    "\n",
    "batch(prompt,20)\n"
   ]
  }
 ],
 "metadata": {
  "kernelspec": {
   "display_name": "Python 3",
   "language": "python",
   "name": "python3"
  },
  "language_info": {
   "codemirror_mode": {
    "name": "ipython",
    "version": 3
   },
   "file_extension": ".py",
   "mimetype": "text/x-python",
   "name": "python",
   "nbconvert_exporter": "python",
   "pygments_lexer": "ipython3",
   "version": "3.10.11"
  },
  "orig_nbformat": 4
 },
 "nbformat": 4,
 "nbformat_minor": 2
}
